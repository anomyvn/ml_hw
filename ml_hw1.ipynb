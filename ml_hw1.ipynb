{
  "nbformat": 4,
  "nbformat_minor": 0,
  "metadata": {
    "colab": {
      "name": "ml_hw1.ipynb",
      "provenance": [],
      "toc_visible": true
    },
    "kernelspec": {
      "name": "python3",
      "display_name": "Python 3"
    },
    "accelerator": "GPU"
  },
  "cells": [
    {
      "cell_type": "code",
      "metadata": {
        "id": "aiNgqlNOKouR",
        "colab_type": "code",
        "outputId": "1cfebe32-778c-4710-ac97-ae55da93f859",
        "colab": {
          "base_uri": "https://localhost:8080/",
          "height": 377
        }
      },
      "source": [
        "!pip install yfinance"
      ],
      "execution_count": 1,
      "outputs": [
        {
          "output_type": "stream",
          "text": [
            "Collecting yfinance\n",
            "  Downloading https://files.pythonhosted.org/packages/c2/31/8b374a12b90def92a4e27d0fc595fc43635f395984e36a075244d98bd265/yfinance-0.1.54.tar.gz\n",
            "Requirement already satisfied: pandas>=0.24 in /usr/local/lib/python3.6/dist-packages (from yfinance) (1.0.3)\n",
            "Requirement already satisfied: numpy>=1.15 in /usr/local/lib/python3.6/dist-packages (from yfinance) (1.18.4)\n",
            "Requirement already satisfied: requests>=2.20 in /usr/local/lib/python3.6/dist-packages (from yfinance) (2.23.0)\n",
            "Requirement already satisfied: multitasking>=0.0.7 in /usr/local/lib/python3.6/dist-packages (from yfinance) (0.0.9)\n",
            "Requirement already satisfied: pytz>=2017.2 in /usr/local/lib/python3.6/dist-packages (from pandas>=0.24->yfinance) (2018.9)\n",
            "Requirement already satisfied: python-dateutil>=2.6.1 in /usr/local/lib/python3.6/dist-packages (from pandas>=0.24->yfinance) (2.8.1)\n",
            "Requirement already satisfied: chardet<4,>=3.0.2 in /usr/local/lib/python3.6/dist-packages (from requests>=2.20->yfinance) (3.0.4)\n",
            "Requirement already satisfied: urllib3!=1.25.0,!=1.25.1,<1.26,>=1.21.1 in /usr/local/lib/python3.6/dist-packages (from requests>=2.20->yfinance) (1.24.3)\n",
            "Requirement already satisfied: certifi>=2017.4.17 in /usr/local/lib/python3.6/dist-packages (from requests>=2.20->yfinance) (2020.4.5.1)\n",
            "Requirement already satisfied: idna<3,>=2.5 in /usr/local/lib/python3.6/dist-packages (from requests>=2.20->yfinance) (2.9)\n",
            "Requirement already satisfied: six>=1.5 in /usr/local/lib/python3.6/dist-packages (from python-dateutil>=2.6.1->pandas>=0.24->yfinance) (1.12.0)\n",
            "Building wheels for collected packages: yfinance\n",
            "  Building wheel for yfinance (setup.py) ... \u001b[?25l\u001b[?25hdone\n",
            "  Created wheel for yfinance: filename=yfinance-0.1.54-py2.py3-none-any.whl size=22409 sha256=4182b0bcffb90966e20c152cef05f600ed9e3a476b0a70fff12ac88c62026910\n",
            "  Stored in directory: /root/.cache/pip/wheels/f9/e3/5b/ec24dd2984b12d61e0abf26289746c2436a0e7844f26f2515c\n",
            "Successfully built yfinance\n",
            "Installing collected packages: yfinance\n",
            "Successfully installed yfinance-0.1.54\n"
          ],
          "name": "stdout"
        }
      ]
    },
    {
      "cell_type": "code",
      "metadata": {
        "id": "LS9A0_bJRyei",
        "colab_type": "code",
        "colab": {}
      },
      "source": [
        "from tqdm import tqdm\n",
        "import os \n",
        "\n",
        "import numpy as np\n",
        "import pandas as pd\n",
        "import datetime\n",
        "\n",
        "from sklearn.preprocessing import MinMaxScaler\n",
        "\n",
        "import yfinance as yf\n",
        "\n",
        "from sklearn.linear_model import LinearRegression"
      ],
      "execution_count": 0,
      "outputs": []
    },
    {
      "cell_type": "code",
      "metadata": {
        "id": "WeN8oGTTMSFR",
        "colab_type": "code",
        "colab": {}
      },
      "source": [
        "os.mkdir('data')"
      ],
      "execution_count": 0,
      "outputs": []
    },
    {
      "cell_type": "code",
      "metadata": {
        "id": "Ku-Dwq1KMGKZ",
        "colab_type": "code",
        "outputId": "35dff252-9a89-4e1c-a189-378782df3492",
        "colab": {
          "base_uri": "https://localhost:8080/",
          "height": 102
        }
      },
      "source": [
        "def get_close_stock_price(codes, start_date='2014-01-01', end_date='2019-04-30'):\n",
        "    data = { code : yf.download(code, start_date, end_date) for code in codes }\n",
        "    data = { key : pd.DataFrame(value, columns=['Close']).rename(columns={'Close': f'{key}'}) for key, value in data.items() }\n",
        "    df = None\n",
        "    for key, value in data.items():\n",
        "        if df is None:\n",
        "            df = value\n",
        "        else:\n",
        "            df = df.merge(value, left_index=True, right_index=True)\n",
        "    return df\n",
        "\n",
        "df = get_close_stock_price(['AAPL', 'GOOGL', 'MSFT', 'AMZN', 'FB'])\n",
        "df.to_csv('data/close_price_big_5.csv')"
      ],
      "execution_count": 46,
      "outputs": [
        {
          "output_type": "stream",
          "text": [
            "[*********************100%***********************]  1 of 1 completed\n",
            "[*********************100%***********************]  1 of 1 completed\n",
            "[*********************100%***********************]  1 of 1 completed\n",
            "[*********************100%***********************]  1 of 1 completed\n",
            "[*********************100%***********************]  1 of 1 completed\n"
          ],
          "name": "stdout"
        }
      ]
    },
    {
      "cell_type": "code",
      "metadata": {
        "id": "sM2OiFguMZR0",
        "colab_type": "code",
        "outputId": "a621fb25-c145-4c1f-bdbc-10ce4fbeb1b5",
        "colab": {
          "base_uri": "https://localhost:8080/",
          "height": 235
        }
      },
      "source": [
        "df = pd.read_csv('data/close_price_big_5.csv', index_col=['Date'], infer_datetime_format=True, parse_dates=['Date'])\n",
        "df.head()"
      ],
      "execution_count": 47,
      "outputs": [
        {
          "output_type": "execute_result",
          "data": {
            "text/html": [
              "<div>\n",
              "<style scoped>\n",
              "    .dataframe tbody tr th:only-of-type {\n",
              "        vertical-align: middle;\n",
              "    }\n",
              "\n",
              "    .dataframe tbody tr th {\n",
              "        vertical-align: top;\n",
              "    }\n",
              "\n",
              "    .dataframe thead th {\n",
              "        text-align: right;\n",
              "    }\n",
              "</style>\n",
              "<table border=\"1\" class=\"dataframe\">\n",
              "  <thead>\n",
              "    <tr style=\"text-align: right;\">\n",
              "      <th></th>\n",
              "      <th>AAPL</th>\n",
              "      <th>GOOGL</th>\n",
              "      <th>MSFT</th>\n",
              "      <th>AMZN</th>\n",
              "      <th>FB</th>\n",
              "    </tr>\n",
              "    <tr>\n",
              "      <th>Date</th>\n",
              "      <th></th>\n",
              "      <th></th>\n",
              "      <th></th>\n",
              "      <th></th>\n",
              "      <th></th>\n",
              "    </tr>\n",
              "  </thead>\n",
              "  <tbody>\n",
              "    <tr>\n",
              "      <th>2014-01-02</th>\n",
              "      <td>79.018570</td>\n",
              "      <td>557.117126</td>\n",
              "      <td>37.160000</td>\n",
              "      <td>397.970001</td>\n",
              "      <td>54.709999</td>\n",
              "    </tr>\n",
              "    <tr>\n",
              "      <th>2014-01-03</th>\n",
              "      <td>77.282860</td>\n",
              "      <td>553.053040</td>\n",
              "      <td>36.910000</td>\n",
              "      <td>396.440002</td>\n",
              "      <td>54.560001</td>\n",
              "    </tr>\n",
              "    <tr>\n",
              "      <th>2014-01-06</th>\n",
              "      <td>77.704285</td>\n",
              "      <td>559.219238</td>\n",
              "      <td>36.130001</td>\n",
              "      <td>393.630005</td>\n",
              "      <td>57.200001</td>\n",
              "    </tr>\n",
              "    <tr>\n",
              "      <th>2014-01-07</th>\n",
              "      <td>77.148575</td>\n",
              "      <td>570.000000</td>\n",
              "      <td>36.410000</td>\n",
              "      <td>398.029999</td>\n",
              "      <td>57.919998</td>\n",
              "    </tr>\n",
              "    <tr>\n",
              "      <th>2014-01-08</th>\n",
              "      <td>77.637146</td>\n",
              "      <td>571.186157</td>\n",
              "      <td>35.759998</td>\n",
              "      <td>401.920013</td>\n",
              "      <td>58.230000</td>\n",
              "    </tr>\n",
              "  </tbody>\n",
              "</table>\n",
              "</div>"
            ],
            "text/plain": [
              "                 AAPL       GOOGL       MSFT        AMZN         FB\n",
              "Date                                                               \n",
              "2014-01-02  79.018570  557.117126  37.160000  397.970001  54.709999\n",
              "2014-01-03  77.282860  553.053040  36.910000  396.440002  54.560001\n",
              "2014-01-06  77.704285  559.219238  36.130001  393.630005  57.200001\n",
              "2014-01-07  77.148575  570.000000  36.410000  398.029999  57.919998\n",
              "2014-01-08  77.637146  571.186157  35.759998  401.920013  58.230000"
            ]
          },
          "metadata": {
            "tags": []
          },
          "execution_count": 47
        }
      ]
    },
    {
      "cell_type": "code",
      "metadata": {
        "id": "QkRlijlkKXG1",
        "colab_type": "code",
        "colab": {}
      },
      "source": [
        "data = df.to_numpy()"
      ],
      "execution_count": 0,
      "outputs": []
    },
    {
      "cell_type": "code",
      "metadata": {
        "id": "3Grb98g6US3-",
        "colab_type": "code",
        "outputId": "84c9d876-54e6-44f3-914d-c72822b6c5a9",
        "colab": {
          "base_uri": "https://localhost:8080/",
          "height": 34
        }
      },
      "source": [
        "data.shape"
      ],
      "execution_count": 13,
      "outputs": [
        {
          "output_type": "execute_result",
          "data": {
            "text/plain": [
              "(1592, 5)"
            ]
          },
          "metadata": {
            "tags": []
          },
          "execution_count": 13
        }
      ]
    },
    {
      "cell_type": "code",
      "metadata": {
        "id": "fraFc5FJLeXx",
        "colab_type": "code",
        "colab": {}
      },
      "source": [
        "\n",
        "len_train = len(data) * 7 //10\n",
        "training_data = data[:len_train]\n",
        "valid_data = data[len_train:]\n",
        "scaler = MinMaxScaler(feature_range=(0, 1))\n",
        "scale = scaler.fit(training_data)\n",
        "d = np.concatenate((scaler.transform(training_data) , scaler.transform(valid_data)))\n"
      ],
      "execution_count": 0,
      "outputs": []
    },
    {
      "cell_type": "code",
      "metadata": {
        "id": "3ehyG1FXSOHm",
        "colab_type": "code",
        "colab": {}
      },
      "source": [
        "\n",
        "def create_Xy(data, history=1):\n",
        "    '''df has index as date\n",
        "    columns are stock price of the companies\n",
        "    '''\n",
        "    X, y, dates = [], [], []\n",
        "    for row_idx in range(history, len(df)):\n",
        "        y.append( data[row_idx,:].reshape(-1) )\n",
        "        X.append( data[row_idx-history:row_idx,:].reshape(-1) )\n",
        "        dates.append(df.index[row_idx])\n",
        "        \n",
        "    # print(x,y)\n",
        "    X, y = np.array(X), np.array(y)\n",
        "    return X, y, dates\n",
        "\n",
        "X,y,dates = create_Xy(data, history=2)\n",
        "# use 7/10 of the dataset to train (use past price to predict future price)\n",
        "n_train = len(y) * 7 // 10\n",
        "X_train, y_train, dates_train, X_test, y_test, dates_test = X[:n_train], y[:n_train], dates[:n_train], X[n_train:], y[n_train:], dates[n_train:]"
      ],
      "execution_count": 0,
      "outputs": []
    },
    {
      "cell_type": "code",
      "metadata": {
        "id": "9djnpl9_OOdB",
        "colab_type": "code",
        "outputId": "c878c3b2-985c-4ead-e3a1-bf339a3a5b21",
        "colab": {
          "base_uri": "https://localhost:8080/",
          "height": 34
        }
      },
      "source": [
        "# te = scale.inverse_transform()\n",
        "relation_error = np.mean((abs(scale.inverse_transform(ypred)[:,0]-scale.inverse_transform(y_test)[:,0])/scale.inverse_transform(y_test)[:,0]))\n",
        "relation_error"
      ],
      "execution_count": 0,
      "outputs": [
        {
          "output_type": "execute_result",
          "data": {
            "text/plain": [
              "0.018442380845631292"
            ]
          },
          "metadata": {
            "tags": []
          },
          "execution_count": 239
        }
      ]
    },
    {
      "cell_type": "markdown",
      "metadata": {
        "id": "9nDASCYpsP_4",
        "colab_type": "text"
      },
      "source": [
        "#Arima\n"
      ]
    },
    {
      "cell_type": "code",
      "metadata": {
        "id": "LJDdM2bysXrq",
        "colab_type": "code",
        "outputId": "ccd0ca27-342b-4793-fe63-823faac57796",
        "colab": {
          "base_uri": "https://localhost:8080/",
          "height": 394
        }
      },
      "source": [
        "!pip install pyramid-arima"
      ],
      "execution_count": 0,
      "outputs": [
        {
          "output_type": "stream",
          "text": [
            "Collecting pyramid-arima\n",
            "\u001b[?25l  Downloading https://files.pythonhosted.org/packages/5c/84/57422f2a6ade3161c586545e38b518ba1b7ab30ee4a4acc29110c0aba2bc/pyramid_arima-0.9.0-cp36-cp36m-manylinux1_x86_64.whl (597kB)\n",
            "\u001b[K     |████████████████████████████████| 604kB 2.7MB/s \n",
            "\u001b[?25hRequirement already satisfied: statsmodels>=0.9.0 in /usr/local/lib/python3.6/dist-packages (from pyramid-arima) (0.10.2)\n",
            "Requirement already satisfied: scikit-learn>=0.17 in /usr/local/lib/python3.6/dist-packages (from pyramid-arima) (0.22.2.post1)\n",
            "Requirement already satisfied: scipy>=0.9 in /usr/local/lib/python3.6/dist-packages (from pyramid-arima) (1.4.1)\n",
            "Requirement already satisfied: pandas>=0.19 in /usr/local/lib/python3.6/dist-packages (from pyramid-arima) (1.0.3)\n",
            "Requirement already satisfied: numpy>=1.10 in /usr/local/lib/python3.6/dist-packages (from pyramid-arima) (1.18.4)\n",
            "Requirement already satisfied: Cython>=0.23 in /usr/local/lib/python3.6/dist-packages (from pyramid-arima) (0.29.17)\n",
            "Requirement already satisfied: patsy>=0.4.0 in /usr/local/lib/python3.6/dist-packages (from statsmodels>=0.9.0->pyramid-arima) (0.5.1)\n",
            "Requirement already satisfied: joblib>=0.11 in /usr/local/lib/python3.6/dist-packages (from scikit-learn>=0.17->pyramid-arima) (0.14.1)\n",
            "Requirement already satisfied: python-dateutil>=2.6.1 in /usr/local/lib/python3.6/dist-packages (from pandas>=0.19->pyramid-arima) (2.8.1)\n",
            "Requirement already satisfied: pytz>=2017.2 in /usr/local/lib/python3.6/dist-packages (from pandas>=0.19->pyramid-arima) (2018.9)\n",
            "Requirement already satisfied: six in /usr/local/lib/python3.6/dist-packages (from patsy>=0.4.0->statsmodels>=0.9.0->pyramid-arima) (1.12.0)\n",
            "Installing collected packages: pyramid-arima\n",
            "Successfully installed pyramid-arima-0.9.0\n"
          ],
          "name": "stdout"
        },
        {
          "output_type": "display_data",
          "data": {
            "application/vnd.colab-display-data+json": {
              "pip_warning": {
                "packages": [
                  "pyramid"
                ]
              }
            }
          },
          "metadata": {
            "tags": []
          }
        }
      ]
    },
    {
      "cell_type": "code",
      "metadata": {
        "id": "lS1LLrbasR18",
        "colab_type": "code",
        "outputId": "e3bd5e3c-97ac-4c35-db43-b4c8d49eb249",
        "colab": {
          "base_uri": "https://localhost:8080/",
          "height": 343
        }
      },
      "source": [
        "from pyramid.arima import auto_arima"
      ],
      "execution_count": 0,
      "outputs": [
        {
          "output_type": "stream",
          "text": [
            "/usr/local/lib/python3.6/dist-packages/sklearn/externals/six.py:31: FutureWarning: The module is deprecated in version 0.21 and will be removed in version 0.23 since we've dropped support for Python 2.7. Please rely on the official version of six (https://pypi.org/project/six/).\n",
            "  \"(https://pypi.org/project/six/).\", FutureWarning)\n",
            "/usr/local/lib/python3.6/dist-packages/statsmodels/tools/_testing.py:19: FutureWarning: pandas.util.testing is deprecated. Use the functions in the public API at pandas.testing instead.\n",
            "  import pandas.util.testing as tm\n",
            "/usr/local/lib/python3.6/dist-packages/sklearn/externals/joblib/__init__.py:15: FutureWarning: sklearn.externals.joblib is deprecated in 0.21 and will be removed in 0.23. Please import this functionality directly from joblib, which can be installed with: pip install joblib. If this warning is raised when loading pickled models, you may need to re-serialize those models with scikit-learn 0.21+.\n",
            "  warnings.warn(msg, category=FutureWarning)\n",
            "/usr/local/lib/python3.6/dist-packages/pyramid/__init__.py:68: UserWarning: \n",
            "    The 'pyramid' package will be migrating to a new namespace beginning in \n",
            "    version 1.0.0: 'pmdarima'. This is due to a package name collision with the\n",
            "    Pyramid web framework. For more information, see Issue #34:\n",
            "    \n",
            "        https://github.com/tgsmith61591/pyramid/issues/34\n",
            "        \n",
            "    The package will subsequently be installable via the name 'pmdarima'; the\n",
            "    only functional change to the user will be the import name. All imports\n",
            "    from 'pyramid' will change to 'pmdarima'.\n",
            "    \n",
            "  \"\"\", UserWarning)\n"
          ],
          "name": "stderr"
        }
      ]
    },
    {
      "cell_type": "code",
      "metadata": {
        "id": "NBbrRopttlZG",
        "colab_type": "code",
        "outputId": "2858c6c4-9cce-4232-a2b4-4c7e75b9905d",
        "colab": {
          "base_uri": "https://localhost:8080/",
          "height": 255
        }
      },
      "source": [
        "data = df\n",
        "train_len = int(len(data) *70/100)\n",
        "train = data[:train_len]\n",
        "valid = data[train_len:]\n",
        "\n",
        "training = train['AAPL']\n",
        "validation = valid['AAPL']\n",
        "\n",
        "model = auto_arima(training, start_p=1, start_q=1,max_p=3, max_q=3, m=12,start_P=0, seasonal=True,d=1, D=1, trace=True,error_action='ignore',suppress_warnings=True)\n",
        "model.fit(training)\n",
        "\n",
        "forecast = model.predict(n_periods=len(validation))\n",
        "# "
      ],
      "execution_count": 0,
      "outputs": [
        {
          "output_type": "stream",
          "text": [
            "Fit ARIMA: order=(1, 1, 1) seasonal_order=(0, 1, 1, 12); AIC=1183.855, BIC=1200.823, Fit time=1.798 seconds\n",
            "Fit ARIMA: order=(0, 1, 0) seasonal_order=(0, 1, 0, 12); AIC=1279.982, BIC=1286.769, Fit time=0.030 seconds\n",
            "Fit ARIMA: order=(1, 1, 0) seasonal_order=(1, 1, 0, 12); AIC=1227.568, BIC=1241.142, Fit time=0.598 seconds\n",
            "Fit ARIMA: order=(0, 1, 1) seasonal_order=(0, 1, 1, 12); AIC=1182.633, BIC=1196.208, Fit time=0.853 seconds\n",
            "Fit ARIMA: order=(0, 1, 1) seasonal_order=(1, 1, 1, 12); AIC=1184.511, BIC=1201.479, Fit time=1.244 seconds\n",
            "Fit ARIMA: order=(0, 1, 1) seasonal_order=(0, 1, 0, 12); AIC=1281.951, BIC=1292.132, Fit time=0.136 seconds\n",
            "Fit ARIMA: order=(0, 1, 1) seasonal_order=(0, 1, 2, 12); AIC=1184.517, BIC=1201.485, Fit time=2.845 seconds\n",
            "Fit ARIMA: order=(0, 1, 1) seasonal_order=(1, 1, 2, 12); AIC=1184.037, BIC=1204.399, Fit time=8.895 seconds\n",
            "Fit ARIMA: order=(0, 1, 0) seasonal_order=(0, 1, 1, 12); AIC=1181.401, BIC=1191.582, Fit time=0.510 seconds\n",
            "Fit ARIMA: order=(0, 1, 0) seasonal_order=(1, 1, 1, 12); AIC=1183.219, BIC=1196.794, Fit time=0.753 seconds\n",
            "Fit ARIMA: order=(0, 1, 0) seasonal_order=(0, 1, 2, 12); AIC=1183.230, BIC=1196.804, Fit time=1.715 seconds\n",
            "Fit ARIMA: order=(0, 1, 0) seasonal_order=(1, 1, 2, 12); AIC=1183.253, BIC=1200.221, Fit time=7.880 seconds\n",
            "Fit ARIMA: order=(1, 1, 0) seasonal_order=(0, 1, 1, 12); AIC=1182.756, BIC=1196.330, Fit time=0.790 seconds\n",
            "Total fit time: 28.053 seconds\n"
          ],
          "name": "stdout"
        }
      ]
    },
    {
      "cell_type": "code",
      "metadata": {
        "id": "A73PGsC0uqLr",
        "colab_type": "code",
        "colab": {}
      },
      "source": [
        "forecast = pd.DataFrame(forecast,index = valid.index,columns=['Prediction'])"
      ],
      "execution_count": 0,
      "outputs": []
    },
    {
      "cell_type": "code",
      "metadata": {
        "id": "NwaC0aYRxf8p",
        "colab_type": "code",
        "outputId": "7f1ac1ae-29e2-4ad4-db90-97e355ea3a63",
        "colab": {
          "base_uri": "https://localhost:8080/",
          "height": 238
        }
      },
      "source": [
        "forecast['Prediction']"
      ],
      "execution_count": 0,
      "outputs": [
        {
          "output_type": "execute_result",
          "data": {
            "text/plain": [
              "Date\n",
              "2019-12-04    259.887734\n",
              "2019-12-05    260.642921\n",
              "2019-12-06    262.340213\n",
              "2019-12-09    261.523745\n",
              "2019-12-10    261.504432\n",
              "                 ...    \n",
              "2020-04-23    323.393521\n",
              "2020-04-24    324.269543\n",
              "2020-04-27    326.087670\n",
              "2020-04-28    325.392036\n",
              "2020-04-29    325.493558\n",
              "Name: Prediction, Length: 101, dtype: float64"
            ]
          },
          "metadata": {
            "tags": []
          },
          "execution_count": 28
        }
      ]
    },
    {
      "cell_type": "code",
      "metadata": {
        "id": "sbmi7Kg5w9DF",
        "colab_type": "code",
        "outputId": "efa2fa9d-27c4-4860-e995-5abc5936090c",
        "colab": {
          "base_uri": "https://localhost:8080/",
          "height": 34
        }
      },
      "source": [
        "relation_error = np.mean((abs(validation-forecast['Prediction'])/validation))\n",
        "relation_error"
      ],
      "execution_count": 0,
      "outputs": [
        {
          "output_type": "execute_result",
          "data": {
            "text/plain": [
              "0.11989478629158211"
            ]
          },
          "metadata": {
            "tags": []
          },
          "execution_count": 31
        }
      ]
    },
    {
      "cell_type": "markdown",
      "metadata": {
        "id": "knhB41aJyncB",
        "colab_type": "text"
      },
      "source": [
        "#Prophet"
      ]
    },
    {
      "cell_type": "code",
      "metadata": {
        "id": "zerAtLCTyyon",
        "colab_type": "code",
        "outputId": "91b8e72f-b855-4d4a-ccd1-b3b83233df70",
        "colab": {
          "base_uri": "https://localhost:8080/",
          "height": 360
        }
      },
      "source": [
        "!pip install fbprophet"
      ],
      "execution_count": 0,
      "outputs": [
        {
          "output_type": "stream",
          "text": [
            "Requirement already satisfied: fbprophet in /usr/local/lib/python3.6/dist-packages (0.6)\n",
            "Requirement already satisfied: Cython>=0.22 in /usr/local/lib/python3.6/dist-packages (from fbprophet) (0.29.17)\n",
            "Requirement already satisfied: cmdstanpy==0.4 in /usr/local/lib/python3.6/dist-packages (from fbprophet) (0.4.0)\n",
            "Requirement already satisfied: pystan>=2.14 in /usr/local/lib/python3.6/dist-packages (from fbprophet) (2.19.1.1)\n",
            "Requirement already satisfied: numpy>=1.10.0 in /usr/local/lib/python3.6/dist-packages (from fbprophet) (1.18.4)\n",
            "Requirement already satisfied: pandas>=0.23.4 in /usr/local/lib/python3.6/dist-packages (from fbprophet) (1.0.3)\n",
            "Requirement already satisfied: matplotlib>=2.0.0 in /usr/local/lib/python3.6/dist-packages (from fbprophet) (3.2.1)\n",
            "Requirement already satisfied: LunarCalendar>=0.0.9 in /usr/local/lib/python3.6/dist-packages (from fbprophet) (0.0.9)\n",
            "Requirement already satisfied: convertdate>=2.1.2 in /usr/local/lib/python3.6/dist-packages (from fbprophet) (2.2.0)\n",
            "Requirement already satisfied: holidays>=0.9.5 in /usr/local/lib/python3.6/dist-packages (from fbprophet) (0.9.12)\n",
            "Requirement already satisfied: setuptools-git>=1.2 in /usr/local/lib/python3.6/dist-packages (from fbprophet) (1.2)\n",
            "Requirement already satisfied: python-dateutil>=2.8.0 in /usr/local/lib/python3.6/dist-packages (from fbprophet) (2.8.1)\n",
            "Requirement already satisfied: pytz>=2017.2 in /usr/local/lib/python3.6/dist-packages (from pandas>=0.23.4->fbprophet) (2018.9)\n",
            "Requirement already satisfied: kiwisolver>=1.0.1 in /usr/local/lib/python3.6/dist-packages (from matplotlib>=2.0.0->fbprophet) (1.2.0)\n",
            "Requirement already satisfied: cycler>=0.10 in /usr/local/lib/python3.6/dist-packages (from matplotlib>=2.0.0->fbprophet) (0.10.0)\n",
            "Requirement already satisfied: pyparsing!=2.0.4,!=2.1.2,!=2.1.6,>=2.0.1 in /usr/local/lib/python3.6/dist-packages (from matplotlib>=2.0.0->fbprophet) (2.4.7)\n",
            "Requirement already satisfied: ephem>=3.7.5.3 in /usr/local/lib/python3.6/dist-packages (from LunarCalendar>=0.0.9->fbprophet) (3.7.7.1)\n",
            "Requirement already satisfied: pymeeus<=1,>=0.3.6 in /usr/local/lib/python3.6/dist-packages (from convertdate>=2.1.2->fbprophet) (0.3.7)\n",
            "Requirement already satisfied: six in /usr/local/lib/python3.6/dist-packages (from holidays>=0.9.5->fbprophet) (1.12.0)\n"
          ],
          "name": "stdout"
        }
      ]
    },
    {
      "cell_type": "code",
      "metadata": {
        "id": "l18IzCpKywCD",
        "colab_type": "code",
        "outputId": "4e2ec4fb-cca8-44a9-9b84-626ef38eaa7c",
        "colab": {
          "base_uri": "https://localhost:8080/",
          "height": 51
        }
      },
      "source": [
        "#importing prophet\n",
        "from fbprophet import Prophet\n",
        "\n",
        "#creating dataframe\n",
        "new_data = pd.DataFrame(index=range(0,len(df)),columns=['Date', 'Close'])\n",
        "\n",
        "for i in range(0,len(data)):\n",
        "    new_data['Date'][i] = df.index[i]\n",
        "    new_data['Close'][i] = df['AAPL'][i]\n",
        "\n",
        "new_data['Date'] = pd.to_datetime(new_data.Date,format='%Y-%m-%d')\n",
        "new_data.index = new_data['Date']\n",
        "\n",
        "#preparing data\n",
        "new_data.rename(columns={'Close': 'y', 'Date': 'ds'}, inplace=True)\n",
        "\n",
        "#train and validation\n",
        "train_len = int(len(data) *70/100)\n",
        "train = new_data[:train_len]\n",
        "valid = new_data[train_len:]\n",
        "\n",
        "#fit the model\n",
        "model = Prophet()\n",
        "model.fit(train)\n",
        "\n",
        "#predictions\n",
        "close_prices = model.make_future_dataframe(periods=len(valid))\n",
        "forecast = model.predict(close_prices)"
      ],
      "execution_count": 0,
      "outputs": [
        {
          "output_type": "stream",
          "text": [
            "INFO:fbprophet:Disabling yearly seasonality. Run prophet with yearly_seasonality=True to override this.\n",
            "INFO:fbprophet:Disabling daily seasonality. Run prophet with daily_seasonality=True to override this.\n"
          ],
          "name": "stderr"
        }
      ]
    },
    {
      "cell_type": "code",
      "metadata": {
        "id": "q4-I3cOkzqKy",
        "colab_type": "code",
        "outputId": "3ee430f1-9c19-4cb6-abe8-bc20e6ce3a3e",
        "colab": {
          "base_uri": "https://localhost:8080/",
          "height": 238
        }
      },
      "source": [
        ""
      ],
      "execution_count": 0,
      "outputs": [
        {
          "output_type": "execute_result",
          "data": {
            "text/plain": [
              "Date\n",
              "2019-12-04    261.74\n",
              "2019-12-05    265.58\n",
              "2019-12-06    270.71\n",
              "2019-12-09    266.92\n",
              "2019-12-10    268.48\n",
              "               ...  \n",
              "2020-04-23    275.03\n",
              "2020-04-24    282.97\n",
              "2020-04-27    283.17\n",
              "2020-04-28    278.58\n",
              "2020-04-29    287.73\n",
              "Name: y, Length: 101, dtype: object"
            ]
          },
          "metadata": {
            "tags": []
          },
          "execution_count": 47
        }
      ]
    },
    {
      "cell_type": "code",
      "metadata": {
        "id": "LvmKXMyy0Flc",
        "colab_type": "code",
        "colab": {}
      },
      "source": [
        "predict = list(forecast['yhat'][train_len:])\n",
        "y_true = list(valid['y'])"
      ],
      "execution_count": 0,
      "outputs": []
    },
    {
      "cell_type": "code",
      "metadata": {
        "id": "vO-pYHetzlHW",
        "colab_type": "code",
        "outputId": "1ffb3e73-c9d8-4451-8d3b-0ea2d11b50c1",
        "colab": {
          "base_uri": "https://localhost:8080/",
          "height": 34
        }
      },
      "source": [
        "res = [abs(y_true[i]-predict[i])/y_true[i] for i in range(len(y_true))]\n",
        "relation_error = np.mean(res)\n",
        "relation_error"
      ],
      "execution_count": 0,
      "outputs": [
        {
          "output_type": "execute_result",
          "data": {
            "text/plain": [
              "0.13241051409986276"
            ]
          },
          "metadata": {
            "tags": []
          },
          "execution_count": 68
        }
      ]
    },
    {
      "cell_type": "markdown",
      "metadata": {
        "id": "eKIadSE4S3m-",
        "colab_type": "text"
      },
      "source": [
        "#Linear"
      ]
    },
    {
      "cell_type": "code",
      "metadata": {
        "id": "KEhEWFR5PYzK",
        "colab_type": "code",
        "colab": {}
      },
      "source": [
        "from sklearn.metrics import mean_squared_error"
      ],
      "execution_count": 0,
      "outputs": []
    },
    {
      "cell_type": "code",
      "metadata": {
        "id": "6sH2-kHA3YJH",
        "colab_type": "code",
        "colab": {
          "base_uri": "https://localhost:8080/",
          "height": 34
        },
        "outputId": "f5540df5-e38a-4220-be15-7f492c8d504a"
      },
      "source": [
        "reg = LinearRegression().fit(X_train, y_train[:,0])\n",
        "ypred = reg.predict(X_test)\n",
        "relation_error = np.mean((abs(ypred-y_test[:,0])/y_test[:,0]))\n",
        "relation_error"
      ],
      "execution_count": 156,
      "outputs": [
        {
          "output_type": "execute_result",
          "data": {
            "text/plain": [
              "0.011854602769182864"
            ]
          },
          "metadata": {
            "tags": []
          },
          "execution_count": 156
        }
      ]
    },
    {
      "cell_type": "code",
      "metadata": {
        "id": "aKu-lI7G_x5P",
        "colab_type": "code",
        "colab": {
          "base_uri": "https://localhost:8080/",
          "height": 34
        },
        "outputId": "739df589-c5e1-4faf-e5c5-4215632d0612"
      },
      "source": [
        "reg = LinearRegression().fit(X_train, y_train[:0])\n",
        "ypred = reg.predict(X_test)\n",
        "relation_error = np.mean((abs(ypred-y_test[:,0])/y_test[:,0]))\n",
        "relation_error"
      ],
      "execution_count": 136,
      "outputs": [
        {
          "output_type": "execute_result",
          "data": {
            "text/plain": [
              "0.0130856305923329"
            ]
          },
          "metadata": {
            "tags": []
          },
          "execution_count": 136
        }
      ]
    },
    {
      "cell_type": "code",
      "metadata": {
        "id": "ePIQiC4nAAIG",
        "colab_type": "code",
        "colab": {
          "base_uri": "https://localhost:8080/",
          "height": 102
        },
        "outputId": "5747df2f-a8b8-489a-a379-5733251cacc2"
      },
      "source": [
        "for i in range(5):\n",
        "  reg = LinearRegression().fit(X_train, y_train[:,i])\n",
        "  ypred = reg.predict(X_test)\n",
        "  relation_error = np.mean((abs(ypred-y_test[:,i])/y_test[:,i]))\n",
        "  print(f'{df.columns[i]} - relationerror:{relation_error} - mse:{mean_squared_error(ypred,y_test[:,i])}')\n",
        "  "
      ],
      "execution_count": 163,
      "outputs": [
        {
          "output_type": "stream",
          "text": [
            "AAPL - relationerror:0.011854602769182864 - mse:9.510824936531966\n",
            "GOOGL - relationerror:0.0130856305923329 - mse:384.7006012277215\n",
            "MSFT - relationerror:0.011219631041094885 - mse:2.5732602004452128\n",
            "AMZN - relationerror:0.014684557996456394 - mse:1102.1571247452323\n",
            "FB - relationerror:0.018300826846169724 - mse:19.223882510179603\n"
          ],
          "name": "stdout"
        }
      ]
    },
    {
      "cell_type": "code",
      "metadata": {
        "id": "-_fL6X69-pWZ",
        "colab_type": "code",
        "colab": {}
      },
      "source": [
        "reg_0 = LinearRegression()"
      ],
      "execution_count": 0,
      "outputs": []
    },
    {
      "cell_type": "markdown",
      "metadata": {
        "id": "lwtuhpEHEDQ_",
        "colab_type": "text"
      },
      "source": [
        "#NN"
      ]
    },
    {
      "cell_type": "code",
      "metadata": {
        "id": "L2KnYmgyEE01",
        "colab_type": "code",
        "colab": {}
      },
      "source": [
        "from sklearn.neural_network import MLPRegressor"
      ],
      "execution_count": 0,
      "outputs": []
    },
    {
      "cell_type": "code",
      "metadata": {
        "id": "5_20FLENVTb6",
        "colab_type": "code",
        "colab": {}
      },
      "source": [
        "from sklearn import svm, datasets\n",
        "from sklearn.model_selection import GridSearchCV\n",
        "iris = datasets.load_iris()\n",
        "parameters = {'solver' : ('lbfgs', 'sgd', 'adam'), 'alpha':[0.0001, 0.001],\n",
        "              'learning_rate' : ('constant', 'invscaling', 'adaptive'),\n",
        "              }\n",
        "\n",
        "mlp = MLPRegressor(random_state=1, max_iter=1000).fit(X_train, y_train)\n",
        "reg = GridSearchCV(mlp, parameters)\n",
        "reg.fit(X_train, y_train)\n",
        "\n",
        "\n",
        "# sorted(clf.cv_results_.keys())"
      ],
      "execution_count": 0,
      "outputs": []
    },
    {
      "cell_type": "code",
      "metadata": {
        "id": "ggF7GHYnV7nR",
        "colab_type": "code",
        "outputId": "eb4f52fe-abd4-422a-9a4b-aaaef044bf84",
        "colab": {
          "base_uri": "https://localhost:8080/",
          "height": 34
        }
      },
      "source": [
        "h"
      ],
      "execution_count": 56,
      "outputs": [
        {
          "output_type": "execute_result",
          "data": {
            "text/plain": [
              "3"
            ]
          },
          "metadata": {
            "tags": []
          },
          "execution_count": 56
        }
      ]
    },
    {
      "cell_type": "code",
      "metadata": {
        "id": "_XrwJxQqEHKg",
        "colab_type": "code",
        "colab": {}
      },
      "source": [
        "regr = MLPRegressor(random_state=1, max_iter=10000).fit(X_train, y_train)"
      ],
      "execution_count": 0,
      "outputs": []
    },
    {
      "cell_type": "code",
      "metadata": {
        "id": "nGnYt4TGEKcE",
        "colab_type": "code",
        "outputId": "257dc1b5-4470-4f20-fd25-665866cf87b9",
        "colab": {
          "base_uri": "https://localhost:8080/",
          "height": 34
        }
      },
      "source": [
        "y_predict = regr.predict(X_test)\n",
        "relation_error = np.mean((abs(y_predict[:,0]-y_test[:,0])/y_test[:,0]))\n",
        "relation_error"
      ],
      "execution_count": 95,
      "outputs": [
        {
          "output_type": "execute_result",
          "data": {
            "text/plain": [
              "0.05459959908418759"
            ]
          },
          "metadata": {
            "tags": []
          },
          "execution_count": 95
        }
      ]
    },
    {
      "cell_type": "code",
      "metadata": {
        "id": "hFhgG0Du3pZD",
        "colab_type": "code",
        "colab": {
          "base_uri": "https://localhost:8080/",
          "height": 34
        },
        "outputId": "492dd959-baa6-411e-ab33-f0fb0ddd5e82"
      },
      "source": [
        "y_predict = regr.predict(X_test)\n",
        "relation_error = np.mean((abs(y_predict[:,1]-y_test[:,1])/y_test[:,1]))\n",
        "relation_error"
      ],
      "execution_count": 96,
      "outputs": [
        {
          "output_type": "execute_result",
          "data": {
            "text/plain": [
              "0.06010928522600052"
            ]
          },
          "metadata": {
            "tags": []
          },
          "execution_count": 96
        }
      ]
    },
    {
      "cell_type": "markdown",
      "metadata": {
        "id": "tGKJhHh7HBt-",
        "colab_type": "text"
      },
      "source": [
        "#BayesianRidge"
      ]
    },
    {
      "cell_type": "code",
      "metadata": {
        "id": "luhL24ntHEKg",
        "colab_type": "code",
        "colab": {}
      },
      "source": [
        "from sklearn import linear_model"
      ],
      "execution_count": 0,
      "outputs": []
    },
    {
      "cell_type": "code",
      "metadata": {
        "id": "QPpB4gERWHxC",
        "colab_type": "code",
        "colab": {}
      },
      "source": [
        "parameters = { 'alpha_1':[1e-5, 1e-7],\n",
        "              'alpha_2':[1e-5, 1e-7],'lambda_1':[1e-5, 1e-7],\n",
        "              'lambda_2':[1e-5, 1e-7]}\n",
        "model = linear_model.BayesianRidge(n_iter=1000)"
      ],
      "execution_count": 0,
      "outputs": []
    },
    {
      "cell_type": "code",
      "metadata": {
        "id": "1-ZUufsK-6sp",
        "colab_type": "code",
        "colab": {}
      },
      "source": [
        "reg_1 = GridSearchCV(model, parameters)"
      ],
      "execution_count": 0,
      "outputs": []
    },
    {
      "cell_type": "code",
      "metadata": {
        "id": "rw7wH2meHMUc",
        "colab_type": "code",
        "outputId": "11f6ca37-5dc0-4ec0-fd67-a699ac559d16",
        "colab": {
          "base_uri": "https://localhost:8080/",
          "height": 34
        }
      },
      "source": [
        "reg =  GridSearchCV(model, parameters).fit(X_train,y_train[:,0])\n",
        "y_predict = reg.predict(X_test)\n",
        "relation_error = np.mean((abs(y_predict-y_test[:,0])/y_test[:,0]))\n",
        "relation_error"
      ],
      "execution_count": 165,
      "outputs": [
        {
          "output_type": "execute_result",
          "data": {
            "text/plain": [
              "0.011848462268657002"
            ]
          },
          "metadata": {
            "tags": []
          },
          "execution_count": 165
        }
      ]
    },
    {
      "cell_type": "code",
      "metadata": {
        "id": "cZoShP6ZAT9-",
        "colab_type": "code",
        "colab": {
          "base_uri": "https://localhost:8080/",
          "height": 102
        },
        "outputId": "11f09a38-e409-4b87-a382-36d0ef5ed7ef"
      },
      "source": [
        "for i in range(5):\n",
        "  reg.fit(X_train,y_train[:,i])\n",
        "  y_predict = reg.predict(X_test)\n",
        "  relation_error = np.mean((abs(y_predict-y_test[:,i])/y_test[:,i]))\n",
        "  print(f'{df.columns[i]} - relationerror:{relation_error} - mse:{mean_squared_error(y_predict,y_test[:,i])}')"
      ],
      "execution_count": 167,
      "outputs": [
        {
          "output_type": "stream",
          "text": [
            "AAPL - relationerror:0.011848462268657002 - mse:9.492179196055691\n",
            "GOOGL - relationerror:0.013156206236619825 - mse:387.74484819845105\n",
            "MSFT - relationerror:0.011219220204482303 - mse:2.5683535526854273\n",
            "AMZN - relationerror:0.014666368803333421 - mse:1099.544466179718\n",
            "FB - relationerror:0.01842586739000763 - mse:19.381146720107644\n"
          ],
          "name": "stdout"
        }
      ]
    },
    {
      "cell_type": "code",
      "metadata": {
        "id": "2mkKir6z26SM",
        "colab_type": "code",
        "colab": {
          "base_uri": "https://localhost:8080/",
          "height": 34
        },
        "outputId": "d019cae7-d79d-43d9-8cdc-758aeadff1bf"
      },
      "source": [
        "reg =  GridSearchCV(model, parameters).fit(X_train,y_train[:,1])\n",
        "y_predict = reg.predict(X_test)\n",
        "relation_error = np.mean((abs(y_predict-y_test[:,1])/y_test[:,1]))\n",
        "relation_error"
      ],
      "execution_count": 114,
      "outputs": [
        {
          "output_type": "execute_result",
          "data": {
            "text/plain": [
              "0.013156206236619825"
            ]
          },
          "metadata": {
            "tags": []
          },
          "execution_count": 114
        }
      ]
    },
    {
      "cell_type": "markdown",
      "metadata": {
        "id": "ucNBCmxWSH8f",
        "colab_type": "text"
      },
      "source": [
        "#Kernel Ridge"
      ]
    },
    {
      "cell_type": "code",
      "metadata": {
        "id": "KNgH5lGQWbDA",
        "colab_type": "code",
        "colab": {}
      },
      "source": [
        "import warnings\n",
        "warnings.filterwarnings(\"ignore\")"
      ],
      "execution_count": 0,
      "outputs": []
    },
    {
      "cell_type": "code",
      "metadata": {
        "id": "TlfYrFufSMEf",
        "colab_type": "code",
        "colab": {}
      },
      "source": [
        "from sklearn.kernel_ridge import KernelRidge"
      ],
      "execution_count": 0,
      "outputs": []
    },
    {
      "cell_type": "code",
      "metadata": {
        "id": "uvTT3iUVzOia",
        "colab_type": "code",
        "colab": {}
      },
      "source": [
        "parameters = { 'alpha':[0, 2],\n",
        "              'degree':[1,4],'coef0':[1, 4]}\n",
        "model = KernelRidge()\n"
      ],
      "execution_count": 0,
      "outputs": []
    },
    {
      "cell_type": "code",
      "metadata": {
        "id": "iI6W_Bzf-_2n",
        "colab_type": "code",
        "colab": {}
      },
      "source": [
        "reg_2 = GridSearchCV(model, parameters)"
      ],
      "execution_count": 0,
      "outputs": []
    },
    {
      "cell_type": "code",
      "metadata": {
        "id": "2mByatvMAyLI",
        "colab_type": "code",
        "colab": {
          "base_uri": "https://localhost:8080/",
          "height": 102
        },
        "outputId": "6db886ca-c6e0-446b-a25b-e25e9476b394"
      },
      "source": [
        "for i in range(5):\n",
        "  reg_2.fit(X_train,y_train[:,i])\n",
        "  y_predict = reg.predict(X_test)\n",
        "  relation_error = np.mean((abs(y_predict-y_test[:,i])/y_test[:,i]))\n",
        "  print(f'{df.columns[i]} - relationerror:{relation_error} - mse:{mean_squared_error(y_predict,y_test[:,i])}')"
      ],
      "execution_count": 174,
      "outputs": [
        {
          "output_type": "stream",
          "text": [
            "AAPL - relationerror:0.011861750792939442 - mse:9.524182584500863\n",
            "GOOGL - relationerror:0.8357462334586675 - mse:867222.3836927728\n",
            "MSFT - relationerror:0.8409887248140229 - mse:7104.174175965652\n",
            "AMZN - relationerror:0.8802879712061643 - mse:1963458.733284881\n",
            "FB - relationerror:0.1258548957885862 - mse:787.0519151095449\n"
          ],
          "name": "stdout"
        }
      ]
    },
    {
      "cell_type": "code",
      "metadata": {
        "id": "CDI9Lp6H9nux",
        "colab_type": "code",
        "colab": {
          "base_uri": "https://localhost:8080/",
          "height": 34
        },
        "outputId": "398bad73-199b-4e6c-83db-3735beb8ef30"
      },
      "source": [
        "reg =  GridSearchCV(model, parameters).fit(X_train,y_train[:,0])\n",
        "y_predict = reg.predict(X_test)\n",
        "relation_error = np.mean((abs(y_predict-y_test[:,0])/y_test[:,0]))\n",
        "relation_error"
      ],
      "execution_count": 175,
      "outputs": [
        {
          "output_type": "execute_result",
          "data": {
            "text/plain": [
              "0.011861750792939442"
            ]
          },
          "metadata": {
            "tags": []
          },
          "execution_count": 175
        }
      ]
    },
    {
      "cell_type": "code",
      "metadata": {
        "id": "bdfAFAnj2wUB",
        "colab_type": "code",
        "colab": {
          "base_uri": "https://localhost:8080/",
          "height": 34
        },
        "outputId": "6b855fb5-8a3e-439b-c8b5-ad406ce64cab"
      },
      "source": [
        "# reg =  GridSearchCV(model, parameters).fit(X_train,y_train[:,1])\n",
        "reg.fit(X_train,y_train[:,1])\n",
        "y_predict = reg.predict(X_test)\n",
        "relation_error = np.mean((abs(y_predict-y_test[:,1])/y_test[:,1]))\n",
        "relation_error"
      ],
      "execution_count": 176,
      "outputs": [
        {
          "output_type": "execute_result",
          "data": {
            "text/plain": [
              "0.012779095657906855"
            ]
          },
          "metadata": {
            "tags": []
          },
          "execution_count": 176
        }
      ]
    },
    {
      "cell_type": "markdown",
      "metadata": {
        "id": "xtClKDzF040e",
        "colab_type": "text"
      },
      "source": [
        "#Ensemble"
      ]
    },
    {
      "cell_type": "code",
      "metadata": {
        "id": "odnzZI251d1H",
        "colab_type": "code",
        "colab": {}
      },
      "source": [
        "from sklearn.ensemble import VotingRegressor"
      ],
      "execution_count": 0,
      "outputs": []
    },
    {
      "cell_type": "code",
      "metadata": {
        "id": "FDr1yfyM2E6S",
        "colab_type": "code",
        "colab": {
          "base_uri": "https://localhost:8080/",
          "height": 102
        },
        "outputId": "3d2f7808-a61d-46a0-846f-6f05b23ee677"
      },
      "source": [
        "for i in range(5):\n",
        "  voting = VotingRegressor(estimators=[('1', reg_1),('2', reg_2), ('0', reg_0)]).fit(X_train,y_train[:,i])\n",
        "  y_predict = voting.predict(X_test)\n",
        "  relation_error = np.mean((abs(y_predict-y_test[:,i])/y_test[:,i]))\n",
        "  print(f'{df.columns[i]} - relationerror:{relation_error} - mse:{mean_squared_error(y_predict,y_test[:,i])}')"
      ],
      "execution_count": 178,
      "outputs": [
        {
          "output_type": "stream",
          "text": [
            "AAPL - relationerror:0.01185081701224561 - mse:9.511410595402126\n",
            "GOOGL - relationerror:0.012868444832824172 - mse:374.0526396030915\n",
            "MSFT - relationerror:0.011210385187269023 - mse:2.575071778817791\n",
            "AMZN - relationerror:0.015052413181854692 - mse:1130.3678451358503\n",
            "FB - relationerror:0.018202318722988768 - mse:19.078535872380538\n"
          ],
          "name": "stdout"
        }
      ]
    },
    {
      "cell_type": "code",
      "metadata": {
        "id": "mPDDg2tA5GnF",
        "colab_type": "code",
        "colab": {
          "base_uri": "https://localhost:8080/",
          "height": 34
        },
        "outputId": "619c59c7-f431-4dc7-d9d1-5761954c7148"
      },
      "source": [
        "from sklearn import svm, datasets\n",
        "from sklearn.model_selection import GridSearchCV\n",
        "iris = datasets.load_iris()\n",
        "parameters = {'kernel':('linear', 'rbf'), 'C':[1, 10]}\n",
        "svc = svm.SVC()\n",
        "clf = GridSearchCV(svc, parameters)\n",
        "clf.fit(iris.data, iris.target)\n",
        "\n",
        "\n",
        "clf.best_params_"
      ],
      "execution_count": 92,
      "outputs": [
        {
          "output_type": "execute_result",
          "data": {
            "text/plain": [
              "{'C': 1, 'kernel': 'linear'}"
            ]
          },
          "metadata": {
            "tags": []
          },
          "execution_count": 92
        }
      ]
    }
  ]
}